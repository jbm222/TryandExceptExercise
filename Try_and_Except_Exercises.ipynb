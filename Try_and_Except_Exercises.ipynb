{
  "nbformat": 4,
  "nbformat_minor": 0,
  "metadata": {
    "colab": {
      "provenance": []
    },
    "kernelspec": {
      "name": "python3",
      "display_name": "Python 3"
    },
    "language_info": {
      "name": "python"
    }
  },
  "cells": [
    {
      "cell_type": "code",
      "execution_count": 12,
      "metadata": {
        "colab": {
          "base_uri": "https://localhost:8080/"
        },
        "id": "gLFQ7xc52IuQ",
        "outputId": "aae1625f-1f47-44cd-e1b4-daff83536dc6"
      },
      "outputs": [
        {
          "output_type": "stream",
          "name": "stdout",
          "text": [
            "values in the list must be numeric\n"
          ]
        },
        {
          "output_type": "execute_result",
          "data": {
            "text/plain": [
              "nan"
            ]
          },
          "metadata": {},
          "execution_count": 12
        }
      ],
      "source": [
        "def avg(alist):\n",
        "  try:\n",
        "    return sum(alist)/len(alist)\n",
        "  except ZeroDivisionError:\n",
        "    print(\"cannot provide an empty list.\")\n",
        "    return []\n",
        "  except TypeError:\n",
        "    print('values in the list must be numeric')\n",
        "    return float('nan')\n",
        "  except:\n",
        "    print('Unknown Error')\n",
        " #can also add an else clause that is only executed when there are no errors on the try block\n",
        "\n",
        "\n",
        "\n",
        "avg(['2',4.5])\n",
        "\n"
      ]
    },
    {
      "cell_type": "code",
      "source": [],
      "metadata": {
        "id": "lyqkWfH_-5e5"
      },
      "execution_count": null,
      "outputs": []
    }
  ]
}